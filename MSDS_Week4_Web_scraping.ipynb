{
  "cells": [
    {
      "cell_type": "markdown",
      "metadata": {
        "id": "view-in-github",
        "colab_type": "text"
      },
      "source": [
        "<a href=\"https://colab.research.google.com/github/sultanfarooq98/sultanfarooq98/blob/main/MSDS_Week4_Web_scraping.ipynb\" target=\"_parent\"><img src=\"https://colab.research.google.com/assets/colab-badge.svg\" alt=\"Open In Colab\"/></a>"
      ]
    },
    {
      "cell_type": "markdown",
      "metadata": {
        "id": "XyAr4pwOALIB"
      },
      "source": [
        "## Python  Framework/ Tools for scraping\n",
        "### There are three popular web scraping tools for Python web scrapers"
      ]
    },
    {
      "cell_type": "markdown",
      "metadata": {
        "id": "fQ8Yx3vjAR1P"
      },
      "source": [
        "#### Three main Steps\n",
        "* Get the Data\n",
        "* Parse the data\n",
        "* Save the data"
      ]
    },
    {
      "cell_type": "markdown",
      "metadata": {
        "id": "sY7-RxvyAR1Q"
      },
      "source": [
        "### 1. Beautifulsoup:\n",
        "\n",
        "#### Pros:\n",
        "* User friendly\n",
        "* Used for both Html and XML\n",
        "* Easy to learn and master\n",
        "\n",
        "#### Cons:\n",
        "* Dependencies so portability issues\n",
        "* Inefficient for large amount of data\n",
        "\n",
        "### For\n",
        "* Less features\n",
        "* Beginner\n",
        "* Quick/ Small Projects\n"
      ]
    },
    {
      "cell_type": "markdown",
      "metadata": {
        "id": "MBn_ZKw1AR1R"
      },
      "source": [
        "\n",
        "### 2. Selenium:\n",
        "#### Pros:\n",
        "* Used for web application\n",
        "* Works well with java scripts\n",
        "* More versatile\n",
        "#### Cons:\n",
        "* Not Ideal and Very Slow\n",
        "* Not user friendly\n",
        "* Inefficient for large amount of data\n",
        "\n",
        "#### For\n",
        "* To automate a wide range of actions: i.e. click, hover etc"
      ]
    },
    {
      "cell_type": "markdown",
      "metadata": {
        "id": "4MO_iDPiAR1S"
      },
      "source": [
        "### 3. Scrapy:\n",
        "#### Pros:\n",
        "* Efficient\n",
        "* Powerfull and Customizable\n",
        "* No dependencies\n",
        "* Good portability and works with all OS\n",
        "\n",
        "#### Cons:\n",
        "* Not userfriendly\n",
        "* Not easy to master\n",
        "\n",
        "### For\n",
        "* Full features\n",
        "* Advanced Users\n",
        "* Complete Projects\n"
      ]
    },
    {
      "cell_type": "code",
      "execution_count": null,
      "metadata": {
        "id": "gUO8tm8uF82J"
      },
      "outputs": [],
      "source": [
        "# Load in the necessary libraries\n",
        "#!pip install requests\n",
        "import requests\n",
        "from bs4 import BeautifulSoup as bs # pip install beautifulsoup4"
      ]
    },
    {
      "cell_type": "markdown",
      "metadata": {
        "id": "N5dzl2MqGIF-"
      },
      "source": [
        "## Load our first page"
      ]
    },
    {
      "cell_type": "code",
      "execution_count": null,
      "metadata": {
        "colab": {
          "base_uri": "https://localhost:8080/",
          "height": 659
        },
        "id": "errkC7G7GK0B",
        "outputId": "5abf5b58-9b01-47db-e90b-6a34d8a1e938"
      },
      "outputs": [
        {
          "data": {
            "text/plain": [
              "b'<html>\\n<head>\\n<title>HTML Example</title>\\n</head>\\n<body>\\n\\n<div align=\"middle\">\\n<h1>HTML Webpage</h1>\\n<p>Link to more interesting example: <a href=\"https://keithgalli.github.io/web-scraping/webpage.html\">keithgalli.github.io/web-scraping/webpage.html</a></p>\\n</div>\\n\\n<h2>A Header</h2>\\n<p><i>Some italicized text</i></p>\\n\\n<h2>Another header</h2>\\n<p id=\"paragraph-id\"><b>Some bold text</b></p>\\n\\n</body>\\n</html>\\n'"
            ]
          },
          "execution_count": 2,
          "metadata": {},
          "output_type": "execute_result"
        }
      ],
      "source": [
        "# Load the webpage content\n",
        "#in html dot is a class\n",
        "# in html # is an id\n",
        "#request.get() Makes a request to a web page, and return the status code:\n",
        "r = requests.get(\"https://keithgalli.github.io/web-scraping/example.html\")\n",
        "r.content"
      ]
    },
    {
      "cell_type": "code",
      "execution_count": null,
      "metadata": {
        "id": "P7Nywq9YAR1Z"
      },
      "outputs": [],
      "source": [
        "# Convert to a beautiful soup object\n",
        "soup = bs(r.content)"
      ]
    },
    {
      "cell_type": "code",
      "execution_count": null,
      "metadata": {
        "id": "CezbtwrfAR1a",
        "outputId": "cdac8eb8-7052-4aab-f67e-ba63bb6f3630"
      },
      "outputs": [
        {
          "name": "stdout",
          "output_type": "stream",
          "text": [
            "<html>\n",
            " <head>\n",
            "  <title>\n",
            "   HTML Example\n",
            "  </title>\n",
            " </head>\n",
            " <body>\n",
            "  <div align=\"middle\">\n",
            "   <h1>\n",
            "    HTML Webpage\n",
            "   </h1>\n",
            "   <p>\n",
            "    Link to more interesting example:\n",
            "    <a href=\"https://keithgalli.github.io/web-scraping/webpage.html\">\n",
            "     keithgalli.github.io/web-scraping/webpage.html\n",
            "    </a>\n",
            "   </p>\n",
            "  </div>\n",
            "  <h2>\n",
            "   A Header\n",
            "  </h2>\n",
            "  <p>\n",
            "   <i>\n",
            "    Some italicized text\n",
            "   </i>\n",
            "  </p>\n",
            "  <h2>\n",
            "   Another header\n",
            "  </h2>\n",
            "  <p id=\"paragraph-id\">\n",
            "   <b>\n",
            "    Some bold text\n",
            "   </b>\n",
            "  </p>\n",
            " </body>\n",
            "</html>\n",
            "\n"
          ]
        }
      ],
      "source": [
        "# Print out our html with prettify to see the data propely indented..\n",
        "print(soup.prettify())"
      ]
    },
    {
      "cell_type": "markdown",
      "metadata": {
        "id": "O5hIMSq3HcqK"
      },
      "source": [
        "# Start using Beautiful Soup to Scrape"
      ]
    },
    {
      "cell_type": "markdown",
      "metadata": {
        "id": "C8qN2zeeHf8o"
      },
      "source": [
        "### find and find_all"
      ]
    },
    {
      "cell_type": "code",
      "execution_count": null,
      "metadata": {
        "colab": {
          "base_uri": "https://localhost:8080/",
          "height": 35
        },
        "id": "mVgWCNfcHy9q",
        "outputId": "e2125139-68e5-48ed-fadc-6f428dfb5ddd"
      },
      "outputs": [
        {
          "name": "stdout",
          "output_type": "stream",
          "text": [
            "<h2>A Header</h2>\n"
          ]
        }
      ],
      "source": [
        "# it returns first match from a source .\n",
        "first_header = soup.find(\"h2\")\n",
        "print(first_header)\n"
      ]
    },
    {
      "cell_type": "code",
      "execution_count": null,
      "metadata": {
        "id": "1C48W1WpAR1c",
        "outputId": "c22607c9-a72c-46fc-dcd2-b47627b5d685"
      },
      "outputs": [
        {
          "name": "stdout",
          "output_type": "stream",
          "text": [
            "[<h2>A Header</h2>, <h2>Another header</h2>]\n"
          ]
        }
      ],
      "source": [
        "headers = soup.find_all(\"h2\")\n",
        "print(headers)"
      ]
    },
    {
      "cell_type": "code",
      "execution_count": null,
      "metadata": {
        "colab": {
          "base_uri": "https://localhost:8080/",
          "height": 35
        },
        "id": "WtYN8_lCHzwq",
        "outputId": "e3de5df6-e810-4330-dbd0-5d2b1f8cd6e7"
      },
      "outputs": [
        {
          "name": "stdout",
          "output_type": "stream",
          "text": [
            "<h1>HTML Webpage</h1>\n",
            "<h1>HTML Webpage</h1>\n"
          ]
        }
      ],
      "source": [
        "# Pass in a list of elements to look for first match.\n",
        "first_header = soup.find([\"h2\", \"h1\"])\n",
        "print(first_header)\n",
        "Second_header = soup.find([\"h1\", \"h2\"])\n",
        "print(Second_header)"
      ]
    },
    {
      "cell_type": "code",
      "execution_count": null,
      "metadata": {
        "id": "cN-3qC9uAR1e",
        "outputId": "424fc841-fb01-4479-8316-3c812cb8f6c2"
      },
      "outputs": [
        {
          "name": "stdout",
          "output_type": "stream",
          "text": [
            "[<h1>HTML Webpage</h1>, <h2>A Header</h2>, <h2>Another header</h2>]\n"
          ]
        }
      ],
      "source": [
        "# when we use find.all method it will resturn all matches.\n",
        "headers = soup.find_all([\"h1\", \"h2\"])\n",
        "print(headers)"
      ]
    },
    {
      "cell_type": "code",
      "execution_count": null,
      "metadata": {
        "colab": {
          "base_uri": "https://localhost:8080/",
          "height": 35
        },
        "id": "Tcjo9RIhIWoD",
        "outputId": "8589e011-8481-481f-d937-987646e406c4"
      },
      "outputs": [
        {
          "data": {
            "text/plain": [
              "[<p id=\"paragraph-id\"><b>Some bold text</b></p>]"
            ]
          },
          "execution_count": 8,
          "metadata": {},
          "output_type": "execute_result"
        }
      ],
      "source": [
        "# You can pass in attributes to the find/find_all function\n",
        "paragraph = soup.find_all(\"p\", attrs={\"id\": \"paragraph-id\"})\n",
        "paragraph"
      ]
    },
    {
      "cell_type": "code",
      "execution_count": null,
      "metadata": {
        "id": "rj26WwB9AR1f"
      },
      "outputs": [],
      "source": []
    },
    {
      "cell_type": "code",
      "execution_count": null,
      "metadata": {
        "colab": {
          "base_uri": "https://localhost:8080/",
          "height": 35
        },
        "id": "gWtc8fXQI5Sc",
        "outputId": "3b13be93-4223-45d0-aa76-a07ae9168f64"
      },
      "outputs": [
        {
          "name": "stdout",
          "output_type": "stream",
          "text": [
            "_______Body_______\n",
            "<body>\n",
            "<div align=\"middle\">\n",
            "<h1>HTML Webpage</h1>\n",
            "<p>Link to more interesting example: <a href=\"https://keithgalli.github.io/web-scraping/webpage.html\">keithgalli.github.io/web-scraping/webpage.html</a></p>\n",
            "</div>\n",
            "<h2>A Header</h2>\n",
            "<p><i>Some italicized text</i></p>\n",
            "<h2>Another header</h2>\n",
            "<p id=\"paragraph-id\"><b>Some bold text</b></p>\n",
            "</body>\n",
            "_______Div_______\n",
            "<div align=\"middle\">\n",
            "<h1>HTML Webpage</h1>\n",
            "<p>Link to more interesting example: <a href=\"https://keithgalli.github.io/web-scraping/webpage.html\">keithgalli.github.io/web-scraping/webpage.html</a></p>\n",
            "</div>\n",
            "_______Header_______\n"
          ]
        },
        {
          "data": {
            "text/plain": [
              "<h1>HTML Webpage</h1>"
            ]
          },
          "execution_count": 8,
          "metadata": {},
          "output_type": "execute_result"
        }
      ],
      "source": [
        "# You can use nested calls of find/find_all\n",
        "body = soup.find('body')\n",
        "\n",
        "print(\"_______Body_______\")\n",
        "print(body)\n",
        "\n",
        "# now inside body we can return div section only.\n",
        "\n",
        "div = body.find('div')\n",
        "print(\"_______Div_______\")\n",
        "print(div)\n",
        "\n",
        "# now inside div section we can return \"h1\" section only.\n",
        "header = div.find('h1')\n",
        "print(\"_______Header_______\")\n",
        "header"
      ]
    },
    {
      "cell_type": "code",
      "execution_count": null,
      "metadata": {
        "colab": {
          "base_uri": "https://localhost:8080/",
          "height": 35
        },
        "id": "2Etqk8UbJDB6",
        "outputId": "4a09856d-5d94-4af6-a780-12dd64111a64"
      },
      "outputs": [
        {
          "name": "stdout",
          "output_type": "stream",
          "text": [
            "[<p><i>Some italicized text</i></p>, <p id=\"paragraph-id\"><b>Some bold text</b></p>]\n"
          ]
        }
      ],
      "source": [
        "# we can find by using regular expression.\n",
        "#We can search specific strings in our find/find_all calls\n",
        "import re\n",
        "\n",
        "paragraphs = soup.find_all(\"p\", string=re.compile(\"Some\"))\n",
        "print(paragraphs)"
      ]
    },
    {
      "cell_type": "code",
      "execution_count": null,
      "metadata": {
        "id": "3AIhVkDWAR1h",
        "outputId": "b73c3bc2-f44f-4d98-b994-0b90efa3054e"
      },
      "outputs": [
        {
          "name": "stdout",
          "output_type": "stream",
          "text": [
            "[<h2>A Header</h2>, <h2>Another header</h2>]\n",
            "[<h2>A Header</h2>, <h2>Another header</h2>]\n"
          ]
        }
      ],
      "source": [
        "import re\n",
        "headers = soup.find_all(\"h2\", string=re.compile(\"(H|h)eader\"))\n",
        "print(headers)\n",
        "\n",
        "headers2 = soup.find_all(\"h2\", string=re.compile(\"(A)?r\"))\n",
        "print(headers2)"
      ]
    },
    {
      "cell_type": "markdown",
      "metadata": {
        "id": "5Q2Ca3SaJoLd"
      },
      "source": [
        "### select (CSS selector)\n",
        "    BeautifulSoup has a limited support for CSS selectors, but covers most commonly used ones.\n",
        "    A CSS selector is the part of a CSS rule set that actually selects the content you want to style.\n",
        "    Universal Selector (*)\n",
        "    ID Selector (#)\n",
        "    Class Selector (.)\n",
        "    Preceded by (h2 ~ p) (p + p)"
      ]
    },
    {
      "cell_type": "code",
      "execution_count": null,
      "metadata": {
        "id": "u7bCjYZsAR1i"
      },
      "outputs": [],
      "source": []
    },
    {
      "cell_type": "code",
      "execution_count": null,
      "metadata": {
        "colab": {
          "base_uri": "https://localhost:8080/",
          "height": 537
        },
        "id": "KIWakiScMphK",
        "outputId": "538400bb-44fd-4de5-d057-0b762b3820b2"
      },
      "outputs": [
        {
          "name": "stdout",
          "output_type": "stream",
          "text": [
            "<body>\n",
            " <div align=\"middle\">\n",
            "  <h1>\n",
            "   HTML Webpage\n",
            "  </h1>\n",
            "  <p>\n",
            "   Link to more interesting example:\n",
            "   <a href=\"https://keithgalli.github.io/web-scraping/webpage.html\">\n",
            "    keithgalli.github.io/web-scraping/webpage.html\n",
            "   </a>\n",
            "  </p>\n",
            " </div>\n",
            " <h2>\n",
            "  A Header\n",
            " </h2>\n",
            " <p>\n",
            "  <i>\n",
            "   Some italicized text\n",
            "  </i>\n",
            " </p>\n",
            " <h2>\n",
            "  Another header\n",
            " </h2>\n",
            " <p id=\"paragraph-id\">\n",
            "  <b>\n",
            "   Some bold text\n",
            "  </b>\n",
            " </p>\n",
            "</body>\n",
            "\n"
          ]
        }
      ],
      "source": [
        "# this method  print the content in proper format.\n",
        "print(soup.body.prettify())"
      ]
    },
    {
      "cell_type": "code",
      "execution_count": null,
      "metadata": {
        "colab": {
          "base_uri": "https://localhost:8080/",
          "height": 55
        },
        "id": "bz0Ckw7ZMCwJ",
        "outputId": "93b19e70-ce4c-4a1a-83ef-88c534633dd5"
      },
      "outputs": [
        {
          "data": {
            "text/plain": [
              "[<p>Link to more interesting example: <a href=\"https://keithgalli.github.io/web-scraping/webpage.html\">keithgalli.github.io/web-scraping/webpage.html</a></p>]"
            ]
          },
          "execution_count": 23,
          "metadata": {},
          "output_type": "execute_result"
        }
      ],
      "source": [
        "content = soup.select(\"div p\")\n",
        "content"
      ]
    },
    {
      "cell_type": "code",
      "execution_count": null,
      "metadata": {
        "colab": {
          "base_uri": "https://localhost:8080/",
          "height": 52
        },
        "id": "9c5HbYilMlWC",
        "outputId": "22a39e3e-c90d-4c05-c83f-1a40e45e1b7d"
      },
      "outputs": [
        {
          "name": "stdout",
          "output_type": "stream",
          "text": [
            "Some italicized text\n",
            "Some bold text\n"
          ]
        },
        {
          "data": {
            "text/plain": [
              "[<p><i>Some italicized text</i></p>,\n",
              " <p id=\"paragraph-id\"><b>Some bold text</b></p>]"
            ]
          },
          "execution_count": 12,
          "metadata": {},
          "output_type": "execute_result"
        }
      ],
      "source": [
        "# Find all paragraphs preceded by h2.  \" find all paraghraph after h2\"\n",
        "paragraphs = soup.select(\"h2 ~ p\")\n",
        "for paragraph in paragraphs:\n",
        "    print(paragraph.text)\n",
        "paragraphs"
      ]
    },
    {
      "cell_type": "code",
      "execution_count": null,
      "metadata": {
        "colab": {
          "base_uri": "https://localhost:8080/",
          "height": 35
        },
        "id": "-GuqrW5-M_iY",
        "outputId": "b95c275c-c983-4698-d19f-651446aeb1ad"
      },
      "outputs": [
        {
          "data": {
            "text/plain": [
              "[<b>Some bold text</b>]"
            ]
          },
          "execution_count": 13,
          "metadata": {},
          "output_type": "execute_result"
        }
      ],
      "source": [
        "# First find paragraph with id=paragraph-id and then find bold tag (<b></b>)\n",
        "bold_text = soup.select(\"p#paragraph-id b\")\n",
        "bold_text"
      ]
    },
    {
      "cell_type": "code",
      "execution_count": null,
      "metadata": {
        "id": "WVG61jXEAR1k"
      },
      "outputs": [],
      "source": [
        "#print(soup.body.prettify())"
      ]
    },
    {
      "cell_type": "code",
      "execution_count": null,
      "metadata": {
        "colab": {
          "base_uri": "https://localhost:8080/",
          "height": 69
        },
        "id": "_4XDtpGHNJjs",
        "outputId": "ed541208-228e-4c19-d04e-5ae6bd97ac59"
      },
      "outputs": [
        {
          "name": "stdout",
          "output_type": "stream",
          "text": [
            "[<h1>HTML Webpage</h1>]\n",
            "_______________________\n",
            "[]\n"
          ]
        }
      ],
      "source": [
        "# Find all the paragraphs where the parent is body\n",
        "# it will not print grand child. e.g  <p> inside <div> will not be accessed.\n",
        "paragraphs = soup.select(\"div > h1\")\n",
        "print(paragraphs)\n",
        "\n",
        "print(\"_______________________\")\n",
        "for paragraph in paragraphs:\n",
        "    print(paragraph.select(\"i\"))"
      ]
    },
    {
      "cell_type": "code",
      "execution_count": null,
      "metadata": {
        "colab": {
          "base_uri": "https://localhost:8080/",
          "height": 107
        },
        "id": "eSltF9W_N0RA",
        "outputId": "16700cca-6eed-491d-cb62-3d1d3476607e"
      },
      "outputs": [
        {
          "data": {
            "text/plain": [
              "[<div align=\"middle\">\\n<h1>HTML Webpage</h1>\\n<p>Link to more interesting example: <a href=\"https://keithgalli.github.io/web-scraping/webpage.html\">keithgalli.github.io/web-scraping/webpage.html</a></p>\\n</div>]"
            ]
          },
          "execution_count": 23,
          "metadata": {},
          "output_type": "execute_result"
        }
      ],
      "source": [
        "# Grab all elements with specific property\n",
        "soup.select(\"[align=middle]\")"
      ]
    },
    {
      "cell_type": "markdown",
      "metadata": {
        "id": "jHYps78hOkJ3"
      },
      "source": [
        "## Get different properties of the HTML"
      ]
    },
    {
      "cell_type": "code",
      "execution_count": null,
      "metadata": {
        "colab": {
          "base_uri": "https://localhost:8080/",
          "height": 295
        },
        "id": "8Wjrf1rjOobJ",
        "outputId": "b767b626-86cc-4b6a-adf0-f273cf27871f"
      },
      "outputs": [
        {
          "data": {
            "text/plain": [
              "'A Header'"
            ]
          },
          "execution_count": 16,
          "metadata": {},
          "output_type": "execute_result"
        }
      ],
      "source": [
        "# To get string value of elements, use .string\n",
        "header = soup.find(\"h2\")\n",
        "header.string\n"
      ]
    },
    {
      "cell_type": "code",
      "execution_count": null,
      "metadata": {
        "id": "BMkDHghXAR1m",
        "outputId": "967c181e-f61c-44c3-baf7-5e131f215587"
      },
      "outputs": [
        {
          "name": "stdout",
          "output_type": "stream",
          "text": [
            "<div align=\"middle\">\n",
            " <h1>\n",
            "  HTML Webpage\n",
            " </h1>\n",
            " <p>\n",
            "  Link to more interesting example:\n",
            "  <a href=\"https://keithgalli.github.io/web-scraping/webpage.html\">\n",
            "   keithgalli.github.io/web-scraping/webpage.html\n",
            "  </a>\n",
            " </p>\n",
            "</div>\n",
            "\n",
            "\n",
            "HTML Webpage\n",
            "Link to more interesting example: keithgalli.github.io/web-scraping/webpage.html\n",
            "\n"
          ]
        }
      ],
      "source": [
        "# If there are multiple elements, then use get_text to get string values of all elements\n",
        "#div = soup.find(\"align=middle\")\n",
        "div = soup.find(\"div\")\n",
        "print(div.prettify())\n",
        "print(div.get_text())"
      ]
    },
    {
      "cell_type": "code",
      "execution_count": null,
      "metadata": {
        "colab": {
          "base_uri": "https://localhost:8080/",
          "height": 35
        },
        "id": "cvs6ZbmYOwYV",
        "outputId": "725fb594-c3bd-4c08-9db9-7d25417a1d99"
      },
      "outputs": [
        {
          "data": {
            "text/plain": [
              "'https://keithgalli.github.io/web-scraping/webpage.html'"
            ]
          },
          "execution_count": 28,
          "metadata": {},
          "output_type": "execute_result"
        }
      ],
      "source": [
        "# Get a specific property from an element\n",
        "link = soup.find(\"a\")\n",
        "link['href']\n"
      ]
    },
    {
      "cell_type": "code",
      "execution_count": null,
      "metadata": {
        "id": "j3pfpnHZAR1o",
        "outputId": "34f51977-def5-46be-946d-c323e664e1f0"
      },
      "outputs": [
        {
          "data": {
            "text/plain": [
              "'paragraph-id'"
            ]
          },
          "execution_count": 29,
          "metadata": {},
          "output_type": "execute_result"
        }
      ],
      "source": [
        "# select a paragharph which has an label \"paragraph-id\"\n",
        "paragraphs = soup.select(\"p#paragraph-id\")\n",
        "paragraphs[0]['id']"
      ]
    },
    {
      "cell_type": "markdown",
      "metadata": {
        "id": "Pbekh_4tPVA2"
      },
      "source": [
        "## Code navigation"
      ]
    },
    {
      "cell_type": "code",
      "execution_count": null,
      "metadata": {
        "colab": {
          "base_uri": "https://localhost:8080/",
          "height": 537
        },
        "id": "lrzam7aTR37s",
        "outputId": "9a6278bf-544f-49ef-a1ff-194f79307c82"
      },
      "outputs": [
        {
          "name": "stdout",
          "output_type": "stream",
          "text": [
            "<body>\n",
            " <div align=\"middle\">\n",
            "  <h1>\n",
            "   HTML Webpage\n",
            "  </h1>\n",
            "  <p>\n",
            "   Link to more interesting example:\n",
            "   <a href=\"https://keithgalli.github.io/web-scraping/webpage.html\">\n",
            "    keithgalli.github.io/web-scraping/webpage.html\n",
            "   </a>\n",
            "  </p>\n",
            " </div>\n",
            " <h2>\n",
            "  A Header\n",
            " </h2>\n",
            " <p>\n",
            "  <i>\n",
            "   Some italicized text\n",
            "  </i>\n",
            " </p>\n",
            " <h2>\n",
            "  Another header\n",
            " </h2>\n",
            " <p id=\"paragraph-id\">\n",
            "  <b>\n",
            "   Some bold text\n",
            "  </b>\n",
            " </p>\n",
            "</body>\n",
            "\n"
          ]
        }
      ],
      "source": [
        "# Path Syntax\n",
        "print(soup.body.prettify())"
      ]
    },
    {
      "cell_type": "code",
      "execution_count": null,
      "metadata": {
        "colab": {
          "base_uri": "https://localhost:8080/",
          "height": 87
        },
        "id": "m6297k2zR8Fi",
        "outputId": "8c3b7a33-ff60-4105-a689-24023562618e"
      },
      "outputs": [
        {
          "data": {
            "text/plain": [
              "[<h2>A Header</h2>,\n",
              " <p><i>Some italicized text</i></p>,\n",
              " <h2>Another header</h2>,\n",
              " <p id=\"paragraph-id\"><b>Some bold text</b></p>]"
            ]
          },
          "execution_count": 81,
          "metadata": {},
          "output_type": "execute_result"
        }
      ],
      "source": [
        "# Know the terms:\n",
        "# Parent: Top element\n",
        "# Sibling: Sibling elements must have the same parent element\n",
        "# Child: Element exist inside of another element\n",
        "\n",
        "# CSS Next Sibling Selector matches all element that are only next sibling of specified element.\n",
        "# Here we want to findout which elements are sibbling to <div> element, so <div> itself will\n",
        "# not be included in the list.\n",
        "\n",
        "soup.body.find(\"div\").find_next_siblings()"
      ]
    },
    {
      "cell_type": "code",
      "execution_count": null,
      "metadata": {
        "collapsed": true,
        "id": "D99FIUStAR1p"
      },
      "outputs": [],
      "source": []
    },
    {
      "cell_type": "markdown",
      "metadata": {
        "id": "uJcdsBKhSNoT"
      },
      "source": [
        "## Load the webpage\n",
        "\n",
        "\n",
        "\n"
      ]
    },
    {
      "cell_type": "code",
      "execution_count": null,
      "metadata": {
        "colab": {
          "base_uri": "https://localhost:8080/",
          "height": 1000
        },
        "id": "RNIdMp1uVsBp",
        "outputId": "b88ea118-5e57-4c5d-d353-a1ce2ce654e3"
      },
      "outputs": [
        {
          "name": "stdout",
          "output_type": "stream",
          "text": [
            "<html>\n",
            " <head>\n",
            "  <title>\n",
            "   Keith Galli's Page\n",
            "  </title>\n",
            "  <style>\n",
            "   table {\n",
            "    border-collapse: collapse;\n",
            "  }\n",
            "  th {\n",
            "    padding:5px;\n",
            "  }\n",
            "  td {\n",
            "    border: 1px solid #ddd;\n",
            "    padding: 5px;\n",
            "  }\n",
            "  tr:nth-child(even) {\n",
            "    background-color: #f2f2f2;\n",
            "  }\n",
            "  th {\n",
            "    padding-top: 12px;\n",
            "    padding-bottom: 12px;\n",
            "    text-align: left;\n",
            "    background-color: #add8e6;\n",
            "    color: black;\n",
            "  }\n",
            "  .block {\n",
            "  width: 100px;\n",
            "  /*float: left;*/\n",
            "    display: inline-block;\n",
            "    zoom: 1;\n",
            "  }\n",
            "  .column {\n",
            "  float: left;\n",
            "  height: 200px;\n",
            "  /*width: 33.33%;*/\n",
            "  padding: 5px;\n",
            "  }\n",
            "\n",
            "  .row::after {\n",
            "    content: \"\";\n",
            "    clear: both;\n",
            "    display: table;\n",
            "  }\n",
            "  </style>\n",
            " </head>\n",
            " <body>\n",
            "  <h1>\n",
            "   Welcome to my page!\n",
            "  </h1>\n",
            "  <img src=\"./images/selfie1.jpg\" width=\"300px\"/>\n",
            "  <h2>\n",
            "   About me\n",
            "  </h2>\n",
            "  <p>\n",
            "   Hi, my name is Keith and I am a YouTuber who focuses on content related to programming, data science, and machine learning!\n",
            "  </p>\n",
            "  <p>\n",
            "   Here is a link to my channel:\n",
            "   <a href=\"https://www.youtube.com/kgmit\">\n",
            "    youtube.com/kgmit\n",
            "   </a>\n",
            "  </p>\n",
            "  <p>\n",
            "   I grew up in the great state of New Hampshire here in the USA. From an early age I always loved math. Around my senior year of high school, my brother first introduced me to programming. I found it a creative way to apply the same type of logical thinking skills that I enjoyed with math. This influenced me to study computer science in college and ultimately create a YouTube channel to share some things that I have learned along the way.\n",
            "  </p>\n",
            "  <h3>\n",
            "   Hobbies\n",
            "  </h3>\n",
            "  <p>\n",
            "   Believe it or not, I don't code 24/7. I love doing all sorts of active things. I like to play ice hockey &amp; table tennis as well as run, hike, skateboard, and snowboard. In addition to sports, I am a board game enthusiast. The two that I've been playing the most recently are\n",
            "   <i>\n",
            "    Settlers of Catan\n",
            "   </i>\n",
            "   and\n",
            "   <i>\n",
            "    Othello\n",
            "   </i>\n",
            "   .\n",
            "  </p>\n",
            "  <h3>\n",
            "   Fun Facts\n",
            "  </h3>\n",
            "  <ul class=\"fun-facts\">\n",
            "   <li>\n",
            "    Owned my dream car in high school\n",
            "    <a href=\"#footer\">\n",
            "     <sup>\n",
            "      1\n",
            "     </sup>\n",
            "    </a>\n",
            "   </li>\n",
            "   <li>\n",
            "    Middle name is Ronald\n",
            "   </li>\n",
            "   <li>\n",
            "    Never had been on a plane until college\n",
            "   </li>\n",
            "   <li>\n",
            "    Dunkin Donuts coffee is better than Starbucks\n",
            "   </li>\n",
            "   <li>\n",
            "    A favorite book series of mine is\n",
            "    <i>\n",
            "     Ender's Game\n",
            "    </i>\n",
            "   </li>\n",
            "   <li>\n",
            "    Current video game of choice is\n",
            "    <i>\n",
            "     Rocket League\n",
            "    </i>\n",
            "   </li>\n",
            "   <li>\n",
            "    The band that I've seen the most times live is the\n",
            "    <i>\n",
            "     Zac Brown Band\n",
            "    </i>\n",
            "   </li>\n",
            "  </ul>\n",
            "  <h2>\n",
            "   Social Media\n",
            "  </h2>\n",
            "  I encourage you to check out my content on all social media platforms\n",
            "  <br/>\n",
            "  <ul class=\"socials\">\n",
            "   <li class=\"social instagram\">\n",
            "    <b>\n",
            "     Instagram:\n",
            "    </b>\n",
            "    <a href=\"https://www.instagram.com/keithgalli/\">\n",
            "     https://www.instagram.com/keithgalli/\n",
            "    </a>\n",
            "   </li>\n",
            "   <li class=\"social twitter\">\n",
            "    <b>\n",
            "     Twitter:\n",
            "    </b>\n",
            "    <a href=\"https://twitter.com/keithgalli\">\n",
            "     https://twitter.com/keithgalli\n",
            "    </a>\n",
            "   </li>\n",
            "   <li class=\"social linkedin\">\n",
            "    <b>\n",
            "     LinkedIn:\n",
            "    </b>\n",
            "    <a href=\"https://www.linkedin.com/in/keithgalli/\">\n",
            "     https://www.linkedin.com/in/keithgalli/\n",
            "    </a>\n",
            "   </li>\n",
            "   <li class=\"social tiktok\">\n",
            "    <b>\n",
            "     TikTok:\n",
            "    </b>\n",
            "    <a href=\"https://www.tiktok.com/@keithgalli\">\n",
            "     https://www.tiktok.com/@keithgalli\n",
            "    </a>\n",
            "   </li>\n",
            "  </ul>\n",
            "  <h2>\n",
            "   Photos\n",
            "  </h2>\n",
            "  Here are a few photos from a trip to italy I took last year\n",
            "  <div class=\"row\">\n",
            "   <div class=\"column\">\n",
            "    <img alt=\"Lake Como\" src=\"images/italy/lake_como.jpg\" style=\"height:100%\"/>\n",
            "   </div>\n",
            "   <div class=\"column\">\n",
            "    <img alt=\"Pontevecchio, Florence\" src=\"images/italy/pontevecchio.jpg\" style=\"height:100%\"/>\n",
            "   </div>\n",
            "   <div class=\"column\">\n",
            "    <img alt=\"Riomaggiore, Cinque de Terre\" src=\"images/italy/riomaggiore.jpg\" style=\"height:100%\"/>\n",
            "   </div>\n",
            "  </div>\n",
            "  <div>\n",
            "  </div>\n",
            "  <h2>\n",
            "   Table\n",
            "  </h2>\n",
            "  My MIT hockey stats :)\n",
            "  <br/>\n",
            "  <table class=\"hockey-stats\">\n",
            "   <thead>\n",
            "    <tr>\n",
            "     <th class=\"season\" data-sort=\"\">\n",
            "      S\n",
            "     </th>\n",
            "     <th class=\"team\" data-sort=\"team\">\n",
            "      Team\n",
            "     </th>\n",
            "     <th class=\"league\" data-sort=\"league\">\n",
            "      League\n",
            "     </th>\n",
            "     <th class=\"regular gp\" data-sort=\"gp\">\n",
            "      GP\n",
            "     </th>\n",
            "     <th class=\"regular g\" data-sort=\"g\">\n",
            "      G\n",
            "     </th>\n",
            "     <th class=\"regular a\" data-sort=\"a\">\n",
            "      A\n",
            "     </th>\n",
            "     <th class=\"regular tp\" data-sort=\"tp\">\n",
            "      TP\n",
            "     </th>\n",
            "     <th class=\"regular pim\" data-sort=\"pim\">\n",
            "      PIM\n",
            "     </th>\n",
            "     <th class=\"regular pm\" data-sort=\"pm\">\n",
            "      +/-\n",
            "     </th>\n",
            "     <th class=\"separator\">\n",
            "     </th>\n",
            "     <th class=\"postseason\">\n",
            "      POST\n",
            "     </th>\n",
            "     <th class=\"postseason gp\" data-sort=\"playoffs-gp\">\n",
            "      GP\n",
            "     </th>\n",
            "     <th class=\"postseason g\" data-sort=\"playoffs-g\">\n",
            "      G\n",
            "     </th>\n",
            "     <th class=\"postseason a\" data-sort=\"playoffs-a\">\n",
            "      A\n",
            "     </th>\n",
            "     <th class=\"postseason tp\" data-sort=\"playoffs-tp\">\n",
            "      TP\n",
            "     </th>\n",
            "     <th class=\"postseason pim\" data-sort=\"playoffs-pim\">\n",
            "      PIM\n",
            "     </th>\n",
            "     <th class=\"postseason pm\" data-sort=\"playoffs-pm\">\n",
            "      +/-\n",
            "     </th>\n",
            "    </tr>\n",
            "   </thead>\n",
            "   <tbody>\n",
            "    <tr class=\"team-continent-NA\">\n",
            "     <td class=\"season sorted\">\n",
            "      2014-15\n",
            "     </td>\n",
            "     <td class=\"team\">\n",
            "      <i>\n",
            "       <img src=\"images/flag.png\"/>\n",
            "      </i>\n",
            "      <span class=\"txt-blue\">\n",
            "       <a href=\"https://www.eliteprospects.com/team/10263/mit-mass.-inst.-of-tech./2014-2015?tab=stats\">\n",
            "        MIT (Mass. Inst. of Tech.)\n",
            "       </a>\n",
            "      </span>\n",
            "     </td>\n",
            "     <td class=\"league\">\n",
            "      <a href=\"https://www.eliteprospects.com/league/acha-ii/stats/2014-2015\">\n",
            "       ACHA II\n",
            "      </a>\n",
            "     </td>\n",
            "     <td class=\"regular gp\">\n",
            "      17\n",
            "     </td>\n",
            "     <td class=\"regular g\">\n",
            "      3\n",
            "     </td>\n",
            "     <td class=\"regular a\">\n",
            "      9\n",
            "     </td>\n",
            "     <td class=\"regular tp\">\n",
            "      12\n",
            "     </td>\n",
            "     <td class=\"regular pim\">\n",
            "      20\n",
            "     </td>\n",
            "     <td class=\"regular pm\">\n",
            "     </td>\n",
            "     <td class=\"separator\">\n",
            "      |\n",
            "     </td>\n",
            "     <td class=\"postseason\">\n",
            "      <a href=\"https://www.eliteprospects.com/league/acha-ii/stats/2014-2015\">\n",
            "      </a>\n",
            "     </td>\n",
            "     <td class=\"postseason gp\">\n",
            "     </td>\n",
            "     <td class=\"postseason g\">\n",
            "     </td>\n",
            "     <td class=\"postseason a\">\n",
            "     </td>\n",
            "     <td class=\"postseason tp\">\n",
            "     </td>\n",
            "     <td class=\"postseason pim\">\n",
            "     </td>\n",
            "     <td class=\"postseason pm\">\n",
            "     </td>\n",
            "    </tr>\n",
            "    <tr class=\"team-continent-NA\">\n",
            "     <td class=\"season sorted\">\n",
            "      2015-16\n",
            "     </td>\n",
            "     <td class=\"team\">\n",
            "      <i>\n",
            "       <img src=\"images/flag.png\"/>\n",
            "      </i>\n",
            "      <span class=\"txt-blue\">\n",
            "       <a href=\"https://www.eliteprospects.com/team/10263/mit-mass.-inst.-of-tech./2015-2016?tab=stats\">\n",
            "        MIT (Mass. Inst. of Tech.)\n",
            "       </a>\n",
            "      </span>\n",
            "     </td>\n",
            "     <td class=\"league\">\n",
            "      <a href=\"https://www.eliteprospects.com/league/acha-ii/stats/2015-2016\">\n",
            "       ACHA II\n",
            "      </a>\n",
            "     </td>\n",
            "     <td class=\"regular gp\">\n",
            "      9\n",
            "     </td>\n",
            "     <td class=\"regular g\">\n",
            "      1\n",
            "     </td>\n",
            "     <td class=\"regular a\">\n",
            "      1\n",
            "     </td>\n",
            "     <td class=\"regular tp\">\n",
            "      2\n",
            "     </td>\n",
            "     <td class=\"regular pim\">\n",
            "      2\n",
            "     </td>\n",
            "     <td class=\"regular pm\">\n",
            "     </td>\n",
            "     <td class=\"separator\">\n",
            "      |\n",
            "     </td>\n",
            "     <td class=\"postseason\">\n",
            "      <a href=\"https://www.eliteprospects.com/league/acha-ii/stats/2015-2016\">\n",
            "      </a>\n",
            "     </td>\n",
            "     <td class=\"postseason gp\">\n",
            "     </td>\n",
            "     <td class=\"postseason g\">\n",
            "     </td>\n",
            "     <td class=\"postseason a\">\n",
            "     </td>\n",
            "     <td class=\"postseason tp\">\n",
            "     </td>\n",
            "     <td class=\"postseason pim\">\n",
            "     </td>\n",
            "     <td class=\"postseason pm\">\n",
            "     </td>\n",
            "    </tr>\n",
            "    <tr class=\"team-continent-NA\">\n",
            "     <td class=\"season sorted\">\n",
            "      2016-17\n",
            "     </td>\n",
            "     <td class=\"team\">\n",
            "      <i>\n",
            "       <img src=\"images/flag.png\"/>\n",
            "      </i>\n",
            "      <span class=\"txt-blue\">\n",
            "       <a href=\"https://www.eliteprospects.com/team/10263/mit-mass.-inst.-of-tech./2016-2017?tab=stats\">\n",
            "        MIT (Mass. Inst. of Tech.)\n",
            "       </a>\n",
            "      </span>\n",
            "     </td>\n",
            "     <td class=\"league\">\n",
            "      <a href=\"https://www.eliteprospects.com/league/acha-ii/stats/2016-2017\">\n",
            "       ACHA II\n",
            "      </a>\n",
            "     </td>\n",
            "     <td class=\"regular gp\">\n",
            "      12\n",
            "     </td>\n",
            "     <td class=\"regular g\">\n",
            "      5\n",
            "     </td>\n",
            "     <td class=\"regular a\">\n",
            "      5\n",
            "     </td>\n",
            "     <td class=\"regular tp\">\n",
            "      10\n",
            "     </td>\n",
            "     <td class=\"regular pim\">\n",
            "      8\n",
            "     </td>\n",
            "     <td class=\"regular pm\">\n",
            "      0\n",
            "     </td>\n",
            "     <td class=\"separator\">\n",
            "      |\n",
            "     </td>\n",
            "     <td class=\"postseason\">\n",
            "     </td>\n",
            "     <td class=\"postseason gp\">\n",
            "     </td>\n",
            "     <td class=\"postseason g\">\n",
            "     </td>\n",
            "     <td class=\"postseason a\">\n",
            "     </td>\n",
            "     <td class=\"postseason tp\">\n",
            "     </td>\n",
            "     <td class=\"postseason pim\">\n",
            "     </td>\n",
            "     <td class=\"postseason pm\">\n",
            "     </td>\n",
            "    </tr>\n",
            "    <tr class=\"team-continent-EU\">\n",
            "     <td class=\"season sorted\">\n",
            "      2017-18\n",
            "     </td>\n",
            "     <td class=\"team\">\n",
            "      Did not play\n",
            "     </td>\n",
            "     <td class=\"league\">\n",
            "      <a href=\"https://www.eliteprospects.com/stats\">\n",
            "      </a>\n",
            "     </td>\n",
            "     <td class=\"regular gp\">\n",
            "     </td>\n",
            "     <td class=\"regular g\">\n",
            "     </td>\n",
            "     <td class=\"regular a\">\n",
            "     </td>\n",
            "     <td class=\"regular tp\">\n",
            "     </td>\n",
            "     <td class=\"regular pim\">\n",
            "     </td>\n",
            "     <td class=\"regular pm\">\n",
            "     </td>\n",
            "     <td class=\"separator\">\n",
            "      |\n",
            "     </td>\n",
            "     <td class=\"postseason\">\n",
            "      <a href=\"https://www.eliteprospects.com/stats\">\n",
            "      </a>\n",
            "     </td>\n",
            "     <td class=\"postseason gp\">\n",
            "     </td>\n",
            "     <td class=\"postseason g\">\n",
            "     </td>\n",
            "     <td class=\"postseason a\">\n",
            "     </td>\n",
            "     <td class=\"postseason tp\">\n",
            "     </td>\n",
            "     <td class=\"postseason pim\">\n",
            "     </td>\n",
            "     <td class=\"postseason pm\">\n",
            "     </td>\n",
            "    </tr>\n",
            "    <tr class=\"team-continent-NA\">\n",
            "     <td class=\"season sorted\">\n",
            "      2018-19\n",
            "     </td>\n",
            "     <td class=\"team\">\n",
            "      <i>\n",
            "       <img src=\"images/flag.png\"/>\n",
            "      </i>\n",
            "      <span class=\"txt-blue\">\n",
            "       <a href=\"https://www.eliteprospects.com/team/10263/mit-mass.-inst.-of-tech./2018-2019?tab=stats\">\n",
            "        MIT (Mass. Inst. of Tech.)\n",
            "       </a>\n",
            "      </span>\n",
            "     </td>\n",
            "     <td class=\"league\">\n",
            "      <a href=\"https://www.eliteprospects.com/league/acha-iii/stats/2018-2019\">\n",
            "       ACHA III\n",
            "      </a>\n",
            "     </td>\n",
            "     <td class=\"regular gp\">\n",
            "      8\n",
            "     </td>\n",
            "     <td class=\"regular g\">\n",
            "      5\n",
            "     </td>\n",
            "     <td class=\"regular a\">\n",
            "      10\n",
            "     </td>\n",
            "     <td class=\"regular tp\">\n",
            "      15\n",
            "     </td>\n",
            "     <td class=\"regular pim\">\n",
            "      8\n",
            "     </td>\n",
            "     <td class=\"regular pm\">\n",
            "     </td>\n",
            "     <td class=\"separator\">\n",
            "      |\n",
            "     </td>\n",
            "     <td class=\"postseason\">\n",
            "      <a href=\"https://www.eliteprospects.com/league/acha-iii/stats/2018-2019\">\n",
            "      </a>\n",
            "     </td>\n",
            "     <td class=\"postseason gp\">\n",
            "     </td>\n",
            "     <td class=\"postseason g\">\n",
            "     </td>\n",
            "     <td class=\"postseason a\">\n",
            "     </td>\n",
            "     <td class=\"postseason tp\">\n",
            "     </td>\n",
            "     <td class=\"postseason pim\">\n",
            "     </td>\n",
            "     <td class=\"postseason pm\">\n",
            "     </td>\n",
            "    </tr>\n",
            "   </tbody>\n",
            "  </table>\n",
            "  <h2>\n",
            "   Mystery Message Challenge!\n",
            "  </h2>\n",
            "  <p>\n",
            "   If you scrape the links below grabbing the &lt;p&gt; tag with id=\"secret-word\", you'll discover a secret message :)\n",
            "  </p>\n",
            "  <div width=\"50%\">\n",
            "   <div align=\"left\" class=\"block\">\n",
            "    <ul>\n",
            "     <li>\n",
            "      <a href=\"challenge/file_1.html\">\n",
            "       File 1\n",
            "      </a>\n",
            "     </li>\n",
            "     <li>\n",
            "      <a href=\"challenge/file_2.html\">\n",
            "       File 2\n",
            "      </a>\n",
            "     </li>\n",
            "     <li>\n",
            "      <a href=\"challenge/file_3.html\">\n",
            "       File 3\n",
            "      </a>\n",
            "     </li>\n",
            "     <li>\n",
            "      <a href=\"challenge/file_4.html\">\n",
            "       File 4\n",
            "      </a>\n",
            "     </li>\n",
            "     <li>\n",
            "      <a href=\"challenge/file_5.html\">\n",
            "       File 5\n",
            "      </a>\n",
            "     </li>\n",
            "    </ul>\n",
            "   </div>\n",
            "   <div align=\"center\" class=\"block\">\n",
            "    <ul>\n",
            "     <li>\n",
            "      <a href=\"challenge/file_6.html\">\n",
            "       File 6\n",
            "      </a>\n",
            "     </li>\n",
            "     <li>\n",
            "      <a href=\"challenge/file_7.html\">\n",
            "       File 7\n",
            "      </a>\n",
            "     </li>\n",
            "     <li>\n",
            "      <a href=\"challenge/file_8.html\">\n",
            "       File 8\n",
            "      </a>\n",
            "     </li>\n",
            "     <li>\n",
            "      <a href=\"challenge/file_9.html\">\n",
            "       File 9\n",
            "      </a>\n",
            "     </li>\n",
            "     <li>\n",
            "      <a href=\"challenge/file_10.html\">\n",
            "       File 10\n",
            "      </a>\n",
            "     </li>\n",
            "    </ul>\n",
            "   </div>\n",
            "  </div>\n",
            "  <h2>\n",
            "   Footnotes\n",
            "  </h2>\n",
            "  <p id=\"footer\">\n",
            "   1. This was actually a minivan that I named Debora. Maybe not my dream car, but I loved her nonetheless.\n",
            "  </p>\n",
            " </body>\n",
            "</html>\n"
          ]
        }
      ],
      "source": [
        "# Load the webpage content\n",
        "r = requests.get(\"https://keithgalli.github.io/web-scraping/webpage.html\")\n",
        "\n",
        "# Convert to a beautiful soup object\n",
        "webpage = bs(r.content)\n",
        "\n",
        "# Print out our html\n",
        "print(webpage.prettify())"
      ]
    },
    {
      "cell_type": "markdown",
      "metadata": {
        "id": "S3q7TlnmVsxj"
      },
      "source": [
        "## Grab all of the social links from the webpage\n",
        "\n",
        "Do this in at least 3 different ways\n",
        "\n"
      ]
    },
    {
      "cell_type": "code",
      "execution_count": null,
      "metadata": {
        "colab": {
          "base_uri": "https://localhost:8080/",
          "height": 87
        },
        "id": "XDaZO-ktcE0y",
        "outputId": "af5069fd-faa6-42e9-c903-fe83d3d5e87f"
      },
      "outputs": [
        {
          "data": {
            "text/plain": [
              "['https://www.instagram.com/keithgalli/',\n",
              " 'https://twitter.com/keithgalli',\n",
              " 'https://www.linkedin.com/in/keithgalli/',\n",
              " 'https://www.tiktok.com/@keithgalli']"
            ]
          },
          "execution_count": 19,
          "metadata": {},
          "output_type": "execute_result"
        }
      ],
      "source": [
        "# Select ul with a class (.) name as socials and then select all the hyperlinks in it.\n",
        "links = webpage.select(\"ul.socials a\")\n",
        "actual_links = [link['href'] for link in links]\n",
        "actual_links"
      ]
    },
    {
      "cell_type": "code",
      "execution_count": null,
      "metadata": {
        "colab": {
          "base_uri": "https://localhost:8080/",
          "height": 87
        },
        "id": "OtXNM8A5dYjV",
        "outputId": "82546f0e-da64-4fcd-c761-e159d21778c8"
      },
      "outputs": [
        {
          "data": {
            "text/plain": [
              "['https://www.instagram.com/keithgalli/',\n",
              " 'https://twitter.com/keithgalli',\n",
              " 'https://www.linkedin.com/in/keithgalli/',\n",
              " 'https://www.tiktok.com/@keithgalli']"
            ]
          },
          "execution_count": 20,
          "metadata": {},
          "output_type": "execute_result"
        }
      ],
      "source": [
        "# You can also use find method to get ul with a class (.) name as socials.\n",
        "ulist = webpage.find(\"ul\", attrs={\"class\": \"socials\"})\n",
        "# Here we want to find all hyperlinks from the ul (ordered list).\n",
        "links = ulist.find_all(\"a\")\n",
        "actual_links = [link['href'] for link in links]\n",
        "actual_links"
      ]
    },
    {
      "cell_type": "code",
      "execution_count": null,
      "metadata": {
        "colab": {
          "base_uri": "https://localhost:8080/",
          "height": 87
        },
        "id": "syPUm0u1ejP0",
        "outputId": "44030592-da33-411e-f314-e2c475e893ba"
      },
      "outputs": [
        {
          "data": {
            "text/plain": [
              "['https://www.instagram.com/keithgalli/',\n",
              " 'https://twitter.com/keithgalli',\n",
              " 'https://www.linkedin.com/in/keithgalli/',\n",
              " 'https://www.tiktok.com/@keithgalli']"
            ]
          },
          "execution_count": 21,
          "metadata": {},
          "output_type": "execute_result"
        }
      ],
      "source": [
        "# select all list contain class value \"social\"\n",
        "links = webpage.select(\"li.social a\")\n",
        "actual_links = [link['href'] for link in links]\n",
        "actual_links"
      ]
    },
    {
      "cell_type": "code",
      "execution_count": null,
      "metadata": {
        "colab": {
          "base_uri": "https://localhost:8080/",
          "height": 87
        },
        "id": "rO138fqAfKqj",
        "outputId": "463d4d47-ec6a-4272-91e3-1fbdf5d3f9fd"
      },
      "outputs": [
        {
          "data": {
            "text/plain": [
              "[<a href=\"https://www.instagram.com/keithgalli/\">https://www.instagram.com/keithgalli/</a>,\n",
              " <a href=\"https://twitter.com/keithgalli\">https://twitter.com/keithgalli</a>,\n",
              " <a href=\"https://www.linkedin.com/in/keithgalli/\">https://www.linkedin.com/in/keithgalli/</a>,\n",
              " <a href=\"https://www.tiktok.com/@keithgalli\">https://www.tiktok.com/@keithgalli</a>]"
            ]
          },
          "execution_count": 12,
          "metadata": {},
          "output_type": "execute_result"
        }
      ],
      "source": [
        "# select child elements of body, then child elements of ul and li contain class socails and all hlinks\n",
        "links = webpage.select(\"body ul li.social a\")\n",
        "links"
      ]
    },
    {
      "cell_type": "markdown",
      "metadata": {
        "id": "uJfD_XH9fcTv"
      },
      "source": [
        "## Exercise \\#2: Grab all text on the webpage\n",
        "\n",
        "Just get stuff above the Photos tag\n",
        "\n"
      ]
    },
    {
      "cell_type": "code",
      "execution_count": null,
      "metadata": {
        "colab": {
          "base_uri": "https://localhost:8080/",
          "height": 488
        },
        "id": "Bquc2VN-fxzD",
        "outputId": "4dc7837f-5cac-4318-a795-13719849321d"
      },
      "outputs": [
        {
          "name": "stdout",
          "output_type": "stream",
          "text": [
            "Welcome to my page!\n",
            "\n",
            "About me\n",
            "Hi, my name is Keith and I am a YouTuber who focuses on content related to programming, data science, and machine learning!\n",
            "Here is a link to my channel: youtube.com/kgmit\n",
            "I grew up in the great state of New Hampshire here in the USA. From an early age I always loved math. Around my senior year of high school, my brother first introduced me to programming. I found it a creative way to apply the same type of logical thinking skills that I enjoyed with math. This influenced me to study computer science in college and ultimately create a YouTube channel to share some things that I have learned along the way.\n",
            "Hobbies\n",
            "Believe it or not, I don't code 24/7. I love doing all sorts of active things. I like to play ice hockey & table tennis as well as run, hike, skateboard, and snowboard. In addition to sports, I am a board game enthusiast. The two that I've been playing the most recently are Settlers of Catan and Othello.\n",
            "Fun Facts\n",
            "\n",
            "Owned my dream car in high school 1\n",
            "Middle name is Ronald\n",
            "Never had been on a plane until college\n",
            "Dunkin Donuts coffee is better than Starbucks\n",
            "A favorite book series of mine is Ender's Game\n",
            "Current video game of choice is Rocket League\n",
            "The band that I've seen the most times live is the Zac Brown Band\n",
            "\n",
            "Social Media\n",
            "\n",
            "\n",
            "Instagram: https://www.instagram.com/keithgalli/\n",
            "Twitter: https://twitter.com/keithgalli\n",
            "LinkedIn: https://www.linkedin.com/in/keithgalli/\n",
            "TikTok: https://www.tiktok.com/@keithgalli\n",
            "\n"
          ]
        }
      ],
      "source": [
        "header = webpage.body.find(\"h2\", string=\"Photos\")\n",
        "#print(header)\n",
        "previous_elements = header.find_previous_siblings()\n",
        "#print(previous_elements)\n",
        "previous_elements_sorted = previous_elements[::-1]\n",
        "elements = [x.get_text() for x in previous_elements_sorted]\n",
        "text = \"\\n\".join(elements)\n",
        "print(text)\n"
      ]
    },
    {
      "cell_type": "code",
      "execution_count": null,
      "metadata": {
        "id": "VnnxJgkHAR11"
      },
      "outputs": [],
      "source": []
    },
    {
      "cell_type": "markdown",
      "metadata": {
        "id": "xyFeeOwgfyKR"
      },
      "source": [
        "## Scrape the Table\n",
        "\n",
        "\n"
      ]
    },
    {
      "cell_type": "code",
      "execution_count": null,
      "metadata": {
        "id": "XNvl9jwRs3QI"
      },
      "outputs": [],
      "source": []
    },
    {
      "cell_type": "code",
      "execution_count": null,
      "metadata": {
        "colab": {
          "base_uri": "https://localhost:8080/",
          "height": 202
        },
        "id": "I9PEzTO7fydK",
        "outputId": "56f9de37-af16-42ea-f83f-d22c3486df28"
      },
      "outputs": [
        {
          "name": "stdout",
          "output_type": "stream",
          "text": [
            "<table class=\"hockey-stats\">\n",
            "<thead>\n",
            "<tr>\n",
            "<th class=\"season\" data-sort=\"\">S</th>\n",
            "<th class=\"team\" data-sort=\"team\">Team</th>\n",
            "<th class=\"league\" data-sort=\"league\">League</th>\n",
            "<th class=\"regular gp\" data-sort=\"gp\">GP</th>\n",
            "<th class=\"regular g\" data-sort=\"g\">G</th>\n",
            "<th class=\"regular a\" data-sort=\"a\">A</th>\n",
            "<th class=\"regular tp\" data-sort=\"tp\">TP</th>\n",
            "<th class=\"regular pim\" data-sort=\"pim\">PIM</th>\n",
            "<th class=\"regular pm\" data-sort=\"pm\">+/-</th>\n",
            "<th class=\"separator\"> </th>\n",
            "<th class=\"postseason\">POST</th>\n",
            "<th class=\"postseason gp\" data-sort=\"playoffs-gp\">GP</th>\n",
            "<th class=\"postseason g\" data-sort=\"playoffs-g\">G</th>\n",
            "<th class=\"postseason a\" data-sort=\"playoffs-a\">A</th>\n",
            "<th class=\"postseason tp\" data-sort=\"playoffs-tp\">TP</th>\n",
            "<th class=\"postseason pim\" data-sort=\"playoffs-pim\">PIM</th>\n",
            "<th class=\"postseason pm\" data-sort=\"playoffs-pm\">+/-</th>\n",
            "</tr>\n",
            "</thead>\n",
            "<tbody>\n",
            "<tr class=\"team-continent-NA\">\n",
            "<td class=\"season sorted\">\n",
            "                  2014-15\n",
            "              </td>\n",
            "<td class=\"team\">\n",
            "<i><img src=\"images/flag.png\"/></i>\n",
            "<span class=\"txt-blue\">\n",
            "<a href=\"https://www.eliteprospects.com/team/10263/mit-mass.-inst.-of-tech./2014-2015?tab=stats\"> MIT (Mass. Inst. of Tech.) </a>\n",
            "</span>\n",
            "</td>\n",
            "<td class=\"league\"> <a href=\"https://www.eliteprospects.com/league/acha-ii/stats/2014-2015\"> ACHA II </a> </td>\n",
            "<td class=\"regular gp\">17</td>\n",
            "<td class=\"regular g\">3</td>\n",
            "<td class=\"regular a\">9</td>\n",
            "<td class=\"regular tp\">12</td>\n",
            "<td class=\"regular pim\">20</td>\n",
            "<td class=\"regular pm\"></td>\n",
            "<td class=\"separator\"> | </td>\n",
            "<td class=\"postseason\">\n",
            "<a href=\"https://www.eliteprospects.com/league/acha-ii/stats/2014-2015\"> </a>\n",
            "</td>\n",
            "<td class=\"postseason gp\">\n",
            "</td>\n",
            "<td class=\"postseason g\">\n",
            "</td>\n",
            "<td class=\"postseason a\">\n",
            "</td>\n",
            "<td class=\"postseason tp\">\n",
            "</td>\n",
            "<td class=\"postseason pim\">\n",
            "</td>\n",
            "<td class=\"postseason pm\">\n",
            "</td>\n",
            "</tr>\n",
            "<tr class=\"team-continent-NA\">\n",
            "<td class=\"season sorted\">\n",
            "                  2015-16\n",
            "              </td>\n",
            "<td class=\"team\">\n",
            "<i><img src=\"images/flag.png\"/></i>\n",
            "<span class=\"txt-blue\">\n",
            "<a href=\"https://www.eliteprospects.com/team/10263/mit-mass.-inst.-of-tech./2015-2016?tab=stats\"> MIT (Mass. Inst. of Tech.) </a>\n",
            "</span>\n",
            "</td>\n",
            "<td class=\"league\"> <a href=\"https://www.eliteprospects.com/league/acha-ii/stats/2015-2016\"> ACHA II </a> </td>\n",
            "<td class=\"regular gp\">9</td>\n",
            "<td class=\"regular g\">1</td>\n",
            "<td class=\"regular a\">1</td>\n",
            "<td class=\"regular tp\">2</td>\n",
            "<td class=\"regular pim\">2</td>\n",
            "<td class=\"regular pm\"></td>\n",
            "<td class=\"separator\"> | </td>\n",
            "<td class=\"postseason\">\n",
            "<a href=\"https://www.eliteprospects.com/league/acha-ii/stats/2015-2016\"> </a>\n",
            "</td>\n",
            "<td class=\"postseason gp\">\n",
            "</td>\n",
            "<td class=\"postseason g\">\n",
            "</td>\n",
            "<td class=\"postseason a\">\n",
            "</td>\n",
            "<td class=\"postseason tp\">\n",
            "</td>\n",
            "<td class=\"postseason pim\">\n",
            "</td>\n",
            "<td class=\"postseason pm\">\n",
            "</td>\n",
            "</tr>\n",
            "<tr class=\"team-continent-NA\">\n",
            "<td class=\"season sorted\">\n",
            "                  2016-17\n",
            "              </td>\n",
            "<td class=\"team\">\n",
            "<i><img src=\"images/flag.png\"/></i>\n",
            "<span class=\"txt-blue\">\n",
            "<a href=\"https://www.eliteprospects.com/team/10263/mit-mass.-inst.-of-tech./2016-2017?tab=stats\"> MIT (Mass. Inst. of Tech.) </a>\n",
            "</span>\n",
            "</td>\n",
            "<td class=\"league\"> <a href=\"https://www.eliteprospects.com/league/acha-ii/stats/2016-2017\"> ACHA II </a> </td>\n",
            "<td class=\"regular gp\">12</td>\n",
            "<td class=\"regular g\">5</td>\n",
            "<td class=\"regular a\">5</td>\n",
            "<td class=\"regular tp\">10</td>\n",
            "<td class=\"regular pim\">8</td>\n",
            "<td class=\"regular pm\">0</td>\n",
            "<td class=\"separator\"> | </td>\n",
            "<td class=\"postseason\">\n",
            "</td>\n",
            "<td class=\"postseason gp\">\n",
            "</td>\n",
            "<td class=\"postseason g\">\n",
            "</td>\n",
            "<td class=\"postseason a\">\n",
            "</td>\n",
            "<td class=\"postseason tp\">\n",
            "</td>\n",
            "<td class=\"postseason pim\">\n",
            "</td>\n",
            "<td class=\"postseason pm\">\n",
            "</td>\n",
            "</tr>\n",
            "<tr class=\"team-continent-EU\">\n",
            "<td class=\"season sorted\">\n",
            "                  2017-18\n",
            "              </td>\n",
            "<td class=\"team\">\n",
            "                  Did not play\n",
            "              </td>\n",
            "<td class=\"league\"> <a href=\"https://www.eliteprospects.com/stats\"> </a> </td>\n",
            "<td class=\"regular gp\"></td>\n",
            "<td class=\"regular g\"></td>\n",
            "<td class=\"regular a\"></td>\n",
            "<td class=\"regular tp\"></td>\n",
            "<td class=\"regular pim\"></td>\n",
            "<td class=\"regular pm\"></td>\n",
            "<td class=\"separator\"> | </td>\n",
            "<td class=\"postseason\">\n",
            "<a href=\"https://www.eliteprospects.com/stats\"> </a>\n",
            "</td>\n",
            "<td class=\"postseason gp\">\n",
            "</td>\n",
            "<td class=\"postseason g\">\n",
            "</td>\n",
            "<td class=\"postseason a\">\n",
            "</td>\n",
            "<td class=\"postseason tp\">\n",
            "</td>\n",
            "<td class=\"postseason pim\">\n",
            "</td>\n",
            "<td class=\"postseason pm\">\n",
            "</td>\n",
            "</tr>\n",
            "<tr class=\"team-continent-NA\">\n",
            "<td class=\"season sorted\">\n",
            "                  2018-19\n",
            "              </td>\n",
            "<td class=\"team\">\n",
            "<i><img src=\"images/flag.png\"/></i>\n",
            "<span class=\"txt-blue\">\n",
            "<a href=\"https://www.eliteprospects.com/team/10263/mit-mass.-inst.-of-tech./2018-2019?tab=stats\"> MIT (Mass. Inst. of Tech.) </a>\n",
            "</span>\n",
            "</td>\n",
            "<td class=\"league\"> <a href=\"https://www.eliteprospects.com/league/acha-iii/stats/2018-2019\"> ACHA III </a> </td>\n",
            "<td class=\"regular gp\">8</td>\n",
            "<td class=\"regular g\">5</td>\n",
            "<td class=\"regular a\">10</td>\n",
            "<td class=\"regular tp\">15</td>\n",
            "<td class=\"regular pim\">8</td>\n",
            "<td class=\"regular pm\"></td>\n",
            "<td class=\"separator\"> | </td>\n",
            "<td class=\"postseason\">\n",
            "<a href=\"https://www.eliteprospects.com/league/acha-iii/stats/2018-2019\"> </a>\n",
            "</td>\n",
            "<td class=\"postseason gp\">\n",
            "</td>\n",
            "<td class=\"postseason g\">\n",
            "</td>\n",
            "<td class=\"postseason a\">\n",
            "</td>\n",
            "<td class=\"postseason tp\">\n",
            "</td>\n",
            "<td class=\"postseason pim\">\n",
            "</td>\n",
            "<td class=\"postseason pm\">\n",
            "</td>\n",
            "</tr>\n",
            "</tbody>\n",
            "</table>\n",
            "['S', 'Team', 'League', 'GP', 'G', 'A', 'TP', 'PIM', '+/-', '\\xa0', 'POST', 'GP', 'G', 'A', 'TP', 'PIM', '+/-']\n"
          ]
        },
        {
          "data": {
            "text/html": [
              "<div>\n",
              "<style scoped>\n",
              "    .dataframe tbody tr th:only-of-type {\n",
              "        vertical-align: middle;\n",
              "    }\n",
              "\n",
              "    .dataframe tbody tr th {\n",
              "        vertical-align: top;\n",
              "    }\n",
              "\n",
              "    .dataframe thead th {\n",
              "        text-align: right;\n",
              "    }\n",
              "</style>\n",
              "<table border=\"1\" class=\"dataframe\">\n",
              "  <thead>\n",
              "    <tr style=\"text-align: right;\">\n",
              "      <th></th>\n",
              "      <th>S</th>\n",
              "      <th>Team</th>\n",
              "      <th>League</th>\n",
              "      <th>GP</th>\n",
              "      <th>G</th>\n",
              "      <th>A</th>\n",
              "      <th>TP</th>\n",
              "      <th>PIM</th>\n",
              "      <th>+/-</th>\n",
              "      <th></th>\n",
              "      <th>POST</th>\n",
              "      <th>GP</th>\n",
              "      <th>G</th>\n",
              "      <th>A</th>\n",
              "      <th>TP</th>\n",
              "      <th>PIM</th>\n",
              "      <th>+/-</th>\n",
              "    </tr>\n",
              "  </thead>\n",
              "  <tbody>\n",
              "    <tr>\n",
              "      <th>0</th>\n",
              "      <td>2014-15</td>\n",
              "      <td>MIT (Mass. Inst. of Tech.)</td>\n",
              "      <td>ACHA II</td>\n",
              "      <td>17</td>\n",
              "      <td>3</td>\n",
              "      <td>9</td>\n",
              "      <td>12</td>\n",
              "      <td>20</td>\n",
              "      <td></td>\n",
              "      <td>|</td>\n",
              "      <td></td>\n",
              "      <td></td>\n",
              "      <td></td>\n",
              "      <td></td>\n",
              "      <td></td>\n",
              "      <td></td>\n",
              "      <td></td>\n",
              "    </tr>\n",
              "    <tr>\n",
              "      <th>1</th>\n",
              "      <td>2015-16</td>\n",
              "      <td>MIT (Mass. Inst. of Tech.)</td>\n",
              "      <td>ACHA II</td>\n",
              "      <td>9</td>\n",
              "      <td>1</td>\n",
              "      <td>1</td>\n",
              "      <td>2</td>\n",
              "      <td>2</td>\n",
              "      <td></td>\n",
              "      <td>|</td>\n",
              "      <td></td>\n",
              "      <td></td>\n",
              "      <td></td>\n",
              "      <td></td>\n",
              "      <td></td>\n",
              "      <td></td>\n",
              "      <td></td>\n",
              "    </tr>\n",
              "    <tr>\n",
              "      <th>2</th>\n",
              "      <td>2016-17</td>\n",
              "      <td>MIT (Mass. Inst. of Tech.)</td>\n",
              "      <td>ACHA II</td>\n",
              "      <td>12</td>\n",
              "      <td>5</td>\n",
              "      <td>5</td>\n",
              "      <td>10</td>\n",
              "      <td>8</td>\n",
              "      <td>0</td>\n",
              "      <td>|</td>\n",
              "      <td></td>\n",
              "      <td></td>\n",
              "      <td></td>\n",
              "      <td></td>\n",
              "      <td></td>\n",
              "      <td></td>\n",
              "      <td></td>\n",
              "    </tr>\n",
              "    <tr>\n",
              "      <th>3</th>\n",
              "      <td>2017-18</td>\n",
              "      <td>Did not play</td>\n",
              "      <td></td>\n",
              "      <td></td>\n",
              "      <td></td>\n",
              "      <td></td>\n",
              "      <td></td>\n",
              "      <td></td>\n",
              "      <td></td>\n",
              "      <td>|</td>\n",
              "      <td></td>\n",
              "      <td></td>\n",
              "      <td></td>\n",
              "      <td></td>\n",
              "      <td></td>\n",
              "      <td></td>\n",
              "      <td></td>\n",
              "    </tr>\n",
              "    <tr>\n",
              "      <th>4</th>\n",
              "      <td>2018-19</td>\n",
              "      <td>MIT (Mass. Inst. of Tech.)</td>\n",
              "      <td>ACHA III</td>\n",
              "      <td>8</td>\n",
              "      <td>5</td>\n",
              "      <td>10</td>\n",
              "      <td>15</td>\n",
              "      <td>8</td>\n",
              "      <td></td>\n",
              "      <td>|</td>\n",
              "      <td></td>\n",
              "      <td></td>\n",
              "      <td></td>\n",
              "      <td></td>\n",
              "      <td></td>\n",
              "      <td></td>\n",
              "      <td></td>\n",
              "    </tr>\n",
              "  </tbody>\n",
              "</table>\n",
              "</div>"
            ],
            "text/plain": [
              "         S                        Team    League  GP  G   A  TP PIM +/-     \\\n",
              "0  2014-15  MIT (Mass. Inst. of Tech.)   ACHA II  17  3   9  12  20      |   \n",
              "1  2015-16  MIT (Mass. Inst. of Tech.)   ACHA II   9  1   1   2   2      |   \n",
              "2  2016-17  MIT (Mass. Inst. of Tech.)   ACHA II  12  5   5  10   8   0  |   \n",
              "3  2017-18                Did not play                                   |   \n",
              "4  2018-19  MIT (Mass. Inst. of Tech.)  ACHA III   8  5  10  15   8      |   \n",
              "\n",
              "  POST GP G A TP PIM +/-  \n",
              "0                         \n",
              "1                         \n",
              "2                         \n",
              "3                         \n",
              "4                         "
            ]
          },
          "execution_count": 24,
          "metadata": {},
          "output_type": "execute_result"
        }
      ],
      "source": [
        "#The Strip() method in Python removes or truncates the given characters from the beginning and the end of the original string.\n",
        "\n",
        "import pandas as pd\n",
        "\n",
        "table = webpage.select(\"table.hockey-stats\")[0]\n",
        "print(table)\n",
        "columns = table.find(\"thead\").find_all(\"th\")\n",
        "#print(columns)\n",
        "column_names = [c.string for c in columns]\n",
        "print(column_names)\n",
        "\n",
        "table_rows = table.find(\"tbody\").find_all(\"tr\")\n",
        "l = []\n",
        "for tr in table_rows:\n",
        "    td = tr.find_all('td')\n",
        "    row = [str(tr.get_text()).strip() for tr in td]\n",
        "    l.append(row)\n",
        "\n",
        "df = pd.DataFrame(l, columns=column_names)\n",
        "df.head()"
      ]
    },
    {
      "cell_type": "markdown",
      "metadata": {
        "id": "budS1HFOfy54"
      },
      "source": [
        "## Grab all fun facts that use word \"is\"\n",
        "\n",
        "\n"
      ]
    },
    {
      "cell_type": "code",
      "execution_count": null,
      "metadata": {
        "colab": {
          "base_uri": "https://localhost:8080/",
          "height": 104
        },
        "id": "g6RnK2GzfzQj",
        "outputId": "519e181a-177d-4e47-8bd2-b546c1d25266"
      },
      "outputs": [
        {
          "name": "stdout",
          "output_type": "stream",
          "text": [
            "[None, 'Middle name is Ronald', None, 'Dunkin Donuts coffee is better than Starbucks', 'A favorite book series of mine is ', 'Current video game of choice is ', \"The band that I've seen the most times live is the \"]\n"
          ]
        },
        {
          "data": {
            "text/plain": [
              "['Middle name is Ronald',\n",
              " 'Dunkin Donuts coffee is better than Starbucks',\n",
              " \"A favorite book series of mine is Ender's Game\",\n",
              " 'Current video game of choice is Rocket League',\n",
              " \"The band that I've seen the most times live is the Zac Brown Band\"]"
            ]
          },
          "execution_count": 26,
          "metadata": {},
          "output_type": "execute_result"
        }
      ],
      "source": [
        "# (\"\\d\")= digit\n",
        "#(\"\\D\") = no digits\n",
        "#\n",
        "\n",
        "import re\n",
        "\n",
        "facts = webpage.select(\"ul.fun-facts li\")\n",
        "facts_with_is = [fact.find(string=re.compile(\"is\")) for fact in facts]\n",
        "\n",
        "print(facts_with_is)\n",
        "\n",
        "facts_with_is = [fact.find_parent().get_text() for fact in facts_with_is if fact]\n",
        "facts_with_is\n"
      ]
    },
    {
      "cell_type": "markdown",
      "metadata": {
        "id": "xvgEIbaAi4Nd"
      },
      "source": [
        "## Download an Image\n",
        "\n",
        "\n"
      ]
    },
    {
      "cell_type": "code",
      "execution_count": null,
      "metadata": {
        "id": "2T3ZOk_0vac6",
        "outputId": "0fc0e6d3-325b-4b55-84c7-06d2136c6533"
      },
      "outputs": [
        {
          "name": "stdout",
          "output_type": "stream",
          "text": [
            "Image downloaded Link:  https://keithgalli.github.io/web-scraping/images/italy/lake_como.jpg\n"
          ]
        }
      ],
      "source": [
        "# Done locally, but here is the code\n",
        "import requests # pip install requests\n",
        "from bs4 import BeautifulSoup as bs # pip install beautifulsoup4\n",
        "\n",
        "# Load the webpage content\n",
        "url = \"https://keithgalli.github.io/web-scraping/\"\n",
        "r = requests.get(url+\"webpage.html\")\n",
        "\n",
        "# Convert to a beautiful soup object\n",
        "webpage = bs(r.content)\n",
        "#print(webpage.prettify())\n",
        "images = webpage.select(\"div.row div.column img\")\n",
        "image_url = images[0]['src']\n",
        "full_url = url + image_url\n",
        "img_data = requests.get(full_url).content\n",
        "\n",
        "with open('lake_como.jpg', 'wb') as handler:\n",
        "    handler.write(img_data)\n",
        "    print(\"Image downloaded Link: \", full_url)"
      ]
    },
    {
      "cell_type": "code",
      "execution_count": null,
      "metadata": {
        "id": "D3ikM8oGAR15"
      },
      "outputs": [],
      "source": []
    }
  ],
  "metadata": {
    "colab": {
      "provenance": [],
      "include_colab_link": true
    },
    "kernelspec": {
      "display_name": "Python 3 (ipykernel)",
      "language": "python",
      "name": "python3"
    },
    "language_info": {
      "codemirror_mode": {
        "name": "ipython",
        "version": 3
      },
      "file_extension": ".py",
      "mimetype": "text/x-python",
      "name": "python",
      "nbconvert_exporter": "python",
      "pygments_lexer": "ipython3",
      "version": "3.7.1"
    }
  },
  "nbformat": 4,
  "nbformat_minor": 0
}